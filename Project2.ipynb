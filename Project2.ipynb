{
 "cells": [
  {
   "cell_type": "markdown",
   "metadata": {},
   "source": [
    "# Project 2\n",
    "## Predicting players rating\n",
    "In this project you are going to predict the overall rating of soccer player based on their attributes\n",
    "such as 'crossing', 'finishing etc.\n",
    "The dataset you are going to use is from European Soccer Database\n",
    "(https://www.kaggle.com/hugomathien/soccer) has more than 25,000 matches and more than\n",
    "10,000 players for European professional soccer seasons from 2008 to 2016.\n",
    "Download the data in the same folder and run the following commmand to get it in the environment\n",
    "## About the Dataset\n",
    "### The ultimate Soccer database for data analysis and machine learning\n",
    "The dataset comes in the form of an SQL database and contains statistics of about 25,000 football\n",
    "matches, from the top football league of 11 European Countries. It covers seasons from 2008 to\n",
    "2016 and contains match statistics (i.e: scores, corners, fouls etc...) as well as the team formations,\n",
    "with player names and a pair of coordinates to indicate their position on the pitch.\n",
    "*  +25,000 matches\n",
    "*  +10,000 players\n",
    "*  11 European Countries with their lead championship\n",
    "*  Seasons 2008 to 2016\n",
    "*  Players and Teams' attributes* sourced from EA Sports' FIFA video game series, including the weekly updates\n",
    "*  Team line up with squad formation (X, Y coordinates)\n",
    "*  Betting odds from up to 10 providers\n",
    "*  Detailed match events (goal types, possession, corner, cross, fouls, cards etc...) for +10,000 matches\n",
    "\n",
    "The dataset also has a set of about 35 statistics for each player, derived from EA Sports' FIFA video\n",
    "games. It is not just the stats that come with a new version of the game but also the weekly\n",
    "updates. So for instance if a player has performed poorly over a period of time and his stats get\n",
    "impacted in FIFA, you would normally see the same in the dataset."
   ]
  },
  {
   "cell_type": "code",
   "execution_count": 1,
   "metadata": {},
   "outputs": [],
   "source": [
    "# Import the libraries\n",
    "import sqlite3\n",
    "import pandas as pd\n",
    "from sklearn.tree import DecisionTreeRegressor\n",
    "from sklearn.linear_model import LinearRegression\n",
    "from sklearn.model_selection import train_test_split\n",
    "from sklearn.metrics import mean_squared_error\n",
    "from math import sqrt"
   ]
  },
  {
   "cell_type": "code",
   "execution_count": 48,
   "metadata": {},
   "outputs": [],
   "source": [
    "# Create connection and read data into pandas from database.sqlite\n",
    "cnx = sqlite3.connect('database.sqlite')\n",
    "df = pd.read_sql_query(\"SELECT * FROM Player_Attributes\", cnx)\n",
    "tables = pd.read_sql(\"SELECT * FROM sqlite_master WHERE type='table'\", cnx)"
   ]
  },
  {
   "cell_type": "code",
   "execution_count": 3,
   "metadata": {},
   "outputs": [
    {
     "data": {
      "text/html": [
       "<div>\n",
       "<style scoped>\n",
       "    .dataframe tbody tr th:only-of-type {\n",
       "        vertical-align: middle;\n",
       "    }\n",
       "\n",
       "    .dataframe tbody tr th {\n",
       "        vertical-align: top;\n",
       "    }\n",
       "\n",
       "    .dataframe thead th {\n",
       "        text-align: right;\n",
       "    }\n",
       "</style>\n",
       "<table border=\"1\" class=\"dataframe\">\n",
       "  <thead>\n",
       "    <tr style=\"text-align: right;\">\n",
       "      <th></th>\n",
       "      <th>type</th>\n",
       "      <th>name</th>\n",
       "      <th>tbl_name</th>\n",
       "      <th>rootpage</th>\n",
       "      <th>sql</th>\n",
       "    </tr>\n",
       "  </thead>\n",
       "  <tbody>\n",
       "    <tr>\n",
       "      <th>0</th>\n",
       "      <td>table</td>\n",
       "      <td>sqlite_sequence</td>\n",
       "      <td>sqlite_sequence</td>\n",
       "      <td>4</td>\n",
       "      <td>CREATE TABLE sqlite_sequence(name,seq)</td>\n",
       "    </tr>\n",
       "    <tr>\n",
       "      <th>1</th>\n",
       "      <td>table</td>\n",
       "      <td>Player_Attributes</td>\n",
       "      <td>Player_Attributes</td>\n",
       "      <td>11</td>\n",
       "      <td>CREATE TABLE \"Player_Attributes\" (\\n\\t`id`\\tIN...</td>\n",
       "    </tr>\n",
       "    <tr>\n",
       "      <th>2</th>\n",
       "      <td>table</td>\n",
       "      <td>Player</td>\n",
       "      <td>Player</td>\n",
       "      <td>14</td>\n",
       "      <td>CREATE TABLE `Player` (\\n\\t`id`\\tINTEGER PRIMA...</td>\n",
       "    </tr>\n",
       "    <tr>\n",
       "      <th>3</th>\n",
       "      <td>table</td>\n",
       "      <td>Match</td>\n",
       "      <td>Match</td>\n",
       "      <td>18</td>\n",
       "      <td>CREATE TABLE `Match` (\\n\\t`id`\\tINTEGER PRIMAR...</td>\n",
       "    </tr>\n",
       "    <tr>\n",
       "      <th>4</th>\n",
       "      <td>table</td>\n",
       "      <td>League</td>\n",
       "      <td>League</td>\n",
       "      <td>24</td>\n",
       "      <td>CREATE TABLE `League` (\\n\\t`id`\\tINTEGER PRIMA...</td>\n",
       "    </tr>\n",
       "    <tr>\n",
       "      <th>5</th>\n",
       "      <td>table</td>\n",
       "      <td>Country</td>\n",
       "      <td>Country</td>\n",
       "      <td>26</td>\n",
       "      <td>CREATE TABLE `Country` (\\n\\t`id`\\tINTEGER PRIM...</td>\n",
       "    </tr>\n",
       "    <tr>\n",
       "      <th>6</th>\n",
       "      <td>table</td>\n",
       "      <td>Team</td>\n",
       "      <td>Team</td>\n",
       "      <td>29</td>\n",
       "      <td>CREATE TABLE \"Team\" (\\n\\t`id`\\tINTEGER PRIMARY...</td>\n",
       "    </tr>\n",
       "    <tr>\n",
       "      <th>7</th>\n",
       "      <td>table</td>\n",
       "      <td>Team_Attributes</td>\n",
       "      <td>Team_Attributes</td>\n",
       "      <td>2</td>\n",
       "      <td>CREATE TABLE `Team_Attributes` (\\n\\t`id`\\tINTE...</td>\n",
       "    </tr>\n",
       "  </tbody>\n",
       "</table>\n",
       "</div>"
      ],
      "text/plain": [
       "    type               name           tbl_name  rootpage  \\\n",
       "0  table    sqlite_sequence    sqlite_sequence         4   \n",
       "1  table  Player_Attributes  Player_Attributes        11   \n",
       "2  table             Player             Player        14   \n",
       "3  table              Match              Match        18   \n",
       "4  table             League             League        24   \n",
       "5  table            Country            Country        26   \n",
       "6  table               Team               Team        29   \n",
       "7  table    Team_Attributes    Team_Attributes         2   \n",
       "\n",
       "                                                 sql  \n",
       "0             CREATE TABLE sqlite_sequence(name,seq)  \n",
       "1  CREATE TABLE \"Player_Attributes\" (\\n\\t`id`\\tIN...  \n",
       "2  CREATE TABLE `Player` (\\n\\t`id`\\tINTEGER PRIMA...  \n",
       "3  CREATE TABLE `Match` (\\n\\t`id`\\tINTEGER PRIMAR...  \n",
       "4  CREATE TABLE `League` (\\n\\t`id`\\tINTEGER PRIMA...  \n",
       "5  CREATE TABLE `Country` (\\n\\t`id`\\tINTEGER PRIM...  \n",
       "6  CREATE TABLE \"Team\" (\\n\\t`id`\\tINTEGER PRIMARY...  \n",
       "7  CREATE TABLE `Team_Attributes` (\\n\\t`id`\\tINTE...  "
      ]
     },
     "execution_count": 3,
     "metadata": {},
     "output_type": "execute_result"
    }
   ],
   "source": [
    "tables"
   ]
  },
  {
   "cell_type": "code",
   "execution_count": 4,
   "metadata": {},
   "outputs": [
    {
     "data": {
      "text/plain": [
       "((183978, 42),\n",
       "    id  player_fifa_api_id  player_api_id                 date  overall_rating  \\\n",
       " 0   1              218353         505942  2016-02-18 00:00:00            67.0   \n",
       " 1   2              218353         505942  2015-11-19 00:00:00            67.0   \n",
       " 2   3              218353         505942  2015-09-21 00:00:00            62.0   \n",
       " 3   4              218353         505942  2015-03-20 00:00:00            61.0   \n",
       " 4   5              218353         505942  2007-02-22 00:00:00            61.0   \n",
       " \n",
       "    potential preferred_foot attacking_work_rate defensive_work_rate  crossing  \\\n",
       " 0       71.0          right              medium              medium      49.0   \n",
       " 1       71.0          right              medium              medium      49.0   \n",
       " 2       66.0          right              medium              medium      49.0   \n",
       " 3       65.0          right              medium              medium      48.0   \n",
       " 4       65.0          right              medium              medium      48.0   \n",
       " \n",
       "       ...       vision  penalties  marking  standing_tackle  sliding_tackle  \\\n",
       " 0     ...         54.0       48.0     65.0             69.0            69.0   \n",
       " 1     ...         54.0       48.0     65.0             69.0            69.0   \n",
       " 2     ...         54.0       48.0     65.0             66.0            69.0   \n",
       " 3     ...         53.0       47.0     62.0             63.0            66.0   \n",
       " 4     ...         53.0       47.0     62.0             63.0            66.0   \n",
       " \n",
       "    gk_diving  gk_handling  gk_kicking  gk_positioning  gk_reflexes  \n",
       " 0        6.0         11.0        10.0             8.0          8.0  \n",
       " 1        6.0         11.0        10.0             8.0          8.0  \n",
       " 2        6.0         11.0        10.0             8.0          8.0  \n",
       " 3        5.0         10.0         9.0             7.0          7.0  \n",
       " 4        5.0         10.0         9.0             7.0          7.0  \n",
       " \n",
       " [5 rows x 42 columns],\n",
       " Index(['id', 'player_fifa_api_id', 'player_api_id', 'date', 'overall_rating',\n",
       "        'potential', 'preferred_foot', 'attacking_work_rate',\n",
       "        'defensive_work_rate', 'crossing', 'finishing', 'heading_accuracy',\n",
       "        'short_passing', 'volleys', 'dribbling', 'curve', 'free_kick_accuracy',\n",
       "        'long_passing', 'ball_control', 'acceleration', 'sprint_speed',\n",
       "        'agility', 'reactions', 'balance', 'shot_power', 'jumping', 'stamina',\n",
       "        'strength', 'long_shots', 'aggression', 'interceptions', 'positioning',\n",
       "        'vision', 'penalties', 'marking', 'standing_tackle', 'sliding_tackle',\n",
       "        'gk_diving', 'gk_handling', 'gk_kicking', 'gk_positioning',\n",
       "        'gk_reflexes'],\n",
       "       dtype='object'))"
      ]
     },
     "execution_count": 4,
     "metadata": {},
     "output_type": "execute_result"
    }
   ],
   "source": [
    "df.shape, df.head(),df.columns"
   ]
  },
  {
   "cell_type": "code",
   "execution_count": 37,
   "metadata": {},
   "outputs": [
    {
     "name": "stdout",
     "output_type": "stream",
     "text": [
      "<class 'pandas.core.frame.DataFrame'>\n",
      "RangeIndex: 183978 entries, 0 to 183977\n",
      "Data columns (total 42 columns):\n",
      "id                     183978 non-null int64\n",
      "player_fifa_api_id     183978 non-null int64\n",
      "player_api_id          183978 non-null int64\n",
      "date                   183978 non-null object\n",
      "overall_rating         183142 non-null float64\n",
      "potential              183142 non-null float64\n",
      "preferred_foot         183142 non-null object\n",
      "attacking_work_rate    180748 non-null object\n",
      "defensive_work_rate    183142 non-null object\n",
      "crossing               183142 non-null float64\n",
      "finishing              183142 non-null float64\n",
      "heading_accuracy       183142 non-null float64\n",
      "short_passing          183142 non-null float64\n",
      "volleys                181265 non-null float64\n",
      "dribbling              183142 non-null float64\n",
      "curve                  181265 non-null float64\n",
      "free_kick_accuracy     183142 non-null float64\n",
      "long_passing           183142 non-null float64\n",
      "ball_control           183142 non-null float64\n",
      "acceleration           183142 non-null float64\n",
      "sprint_speed           183142 non-null float64\n",
      "agility                181265 non-null float64\n",
      "reactions              183142 non-null float64\n",
      "balance                181265 non-null float64\n",
      "shot_power             183142 non-null float64\n",
      "jumping                181265 non-null float64\n",
      "stamina                183142 non-null float64\n",
      "strength               183142 non-null float64\n",
      "long_shots             183142 non-null float64\n",
      "aggression             183142 non-null float64\n",
      "interceptions          183142 non-null float64\n",
      "positioning            183142 non-null float64\n",
      "vision                 181265 non-null float64\n",
      "penalties              183142 non-null float64\n",
      "marking                183142 non-null float64\n",
      "standing_tackle        183142 non-null float64\n",
      "sliding_tackle         181265 non-null float64\n",
      "gk_diving              183142 non-null float64\n",
      "gk_handling            183142 non-null float64\n",
      "gk_kicking             183142 non-null float64\n",
      "gk_positioning         183142 non-null float64\n",
      "gk_reflexes            183142 non-null float64\n",
      "dtypes: float64(35), int64(3), object(4)\n",
      "memory usage: 59.0+ MB\n"
     ]
    }
   ],
   "source": [
    "df.info()"
   ]
  },
  {
   "cell_type": "code",
   "execution_count": 49,
   "metadata": {},
   "outputs": [
    {
     "data": {
      "text/plain": [
       "id                       0\n",
       "player_fifa_api_id       0\n",
       "player_api_id            0\n",
       "overall_rating         836\n",
       "potential              836\n",
       "crossing               836\n",
       "finishing              836\n",
       "heading_accuracy       836\n",
       "short_passing          836\n",
       "volleys               2713\n",
       "dribbling              836\n",
       "curve                 2713\n",
       "free_kick_accuracy     836\n",
       "long_passing           836\n",
       "ball_control           836\n",
       "acceleration           836\n",
       "sprint_speed           836\n",
       "agility               2713\n",
       "reactions              836\n",
       "balance               2713\n",
       "shot_power             836\n",
       "jumping               2713\n",
       "stamina                836\n",
       "strength               836\n",
       "long_shots             836\n",
       "aggression             836\n",
       "interceptions          836\n",
       "positioning            836\n",
       "vision                2713\n",
       "penalties              836\n",
       "marking                836\n",
       "standing_tackle        836\n",
       "sliding_tackle        2713\n",
       "gk_diving              836\n",
       "gk_handling            836\n",
       "gk_kicking             836\n",
       "gk_positioning         836\n",
       "gk_reflexes            836\n",
       "dtype: int64"
      ]
     },
     "execution_count": 49,
     "metadata": {},
     "output_type": "execute_result"
    }
   ],
   "source": [
    "# Check for Null data and count for same. Also, we will drop out the columns with object dtype\n",
    "df = df.select_dtypes([\"int64\",\"float64\"])\n",
    "df.isnull().sum(axis=0)"
   ]
  },
  {
   "cell_type": "code",
   "execution_count": 51,
   "metadata": {},
   "outputs": [
    {
     "data": {
      "text/plain": [
       "(181265, 38)"
      ]
     },
     "execution_count": 51,
     "metadata": {},
     "output_type": "execute_result"
    }
   ],
   "source": [
    "#Lets drop the null values\n",
    "df=df.dropna()\n",
    "df.shape"
   ]
  },
  {
   "cell_type": "code",
   "execution_count": 52,
   "metadata": {},
   "outputs": [
    {
     "data": {
      "text/plain": [
       "<matplotlib.axes._subplots.AxesSubplot at 0x31724a20>"
      ]
     },
     "execution_count": 52,
     "metadata": {},
     "output_type": "execute_result"
    },
    {
     "data": {
      "image/png": "[encoded data removed]",
      "text/plain": [
       "<Figure size 2736x1008 with 2 Axes>"
      ]
     },
     "metadata": {
      "needs_background": "light"
     },
     "output_type": "display_data"
    }
   ],
   "source": [
    "import seaborn as sns\n",
    "import matplotlib.pyplot as plt\n",
    "plt.figure(figsize=(38,14))\n",
    "sns.heatmap(df.corr())"
   ]
  },
  {
   "cell_type": "code",
   "execution_count": 53,
   "metadata": {},
   "outputs": [
    {
     "data": {
      "text/plain": [
       "overall_rating        1.000000\n",
       "reactions             0.770963\n",
       "potential             0.765674\n",
       "short_passing         0.458122\n",
       "ball_control          0.444183\n",
       "long_passing          0.434789\n",
       "vision                0.431137\n",
       "shot_power            0.427842\n",
       "penalties             0.392717\n",
       "long_shots            0.392660\n",
       "positioning           0.369469\n",
       "volleys               0.361470\n",
       "curve                 0.357772\n",
       "crossing              0.357655\n",
       "dribbling             0.354369\n",
       "free_kick_accuracy    0.349931\n",
       "finishing             0.330116\n",
       "stamina               0.326114\n",
       "aggression            0.323084\n",
       "strength              0.316421\n",
       "heading_accuracy      0.313541\n",
       "jumping               0.259023\n",
       "sprint_speed          0.253333\n",
       "interceptions         0.249475\n",
       "acceleration          0.244180\n",
       "agility               0.239896\n",
       "standing_tackle       0.164780\n",
       "balance               0.160364\n",
       "marking               0.132857\n",
       "sliding_tackle        0.128889\n",
       "gk_kicking            0.028156\n",
       "gk_diving             0.027215\n",
       "gk_positioning        0.007133\n",
       "gk_reflexes           0.007043\n",
       "gk_handling           0.005842\n",
       "id                   -0.003122\n",
       "player_fifa_api_id   -0.277268\n",
       "player_api_id        -0.326492\n",
       "Name: overall_rating, dtype: float64"
      ]
     },
     "execution_count": 53,
     "metadata": {},
     "output_type": "execute_result"
    }
   ],
   "source": [
    "# Get the correlation matrix w.r.t overall_rating which we want to predict\n",
    "corr_mat  = df.corr()\n",
    "corr_mat[\"overall_rating\"].sort_values(ascending=False)"
   ]
  },
  {
   "cell_type": "code",
   "execution_count": 13,
   "metadata": {},
   "outputs": [],
   "source": [
    "# We will select only the features we like to have as per above correlations.\n",
    "features=['reactions','potential','short_passing','ball_control','long_passing',\n",
    "          'vision','shot_power','penalties','long_shots','positioning','volleys',\n",
    "          'curve','crossing','dribbling','free_kick_accuracy','finishing','stamina',\n",
    "          'aggression','strength','heading_accuracy','jumping','sprint_speed',\n",
    "          'interceptions','acceleration','agility','standing_tackle','balance',\n",
    "          'marking','sliding_tackle']"
   ]
  },
  {
   "cell_type": "code",
   "execution_count": 54,
   "metadata": {},
   "outputs": [
    {
     "data": {
      "text/plain": [
       "LinearRegression(copy_X=True, fit_intercept=True, n_jobs=10, normalize=False)"
      ]
     },
     "execution_count": 54,
     "metadata": {},
     "output_type": "execute_result"
    }
   ],
   "source": [
    "# We will try to fit via Linear correlation\n",
    "x=df[features]\n",
    "y=df['overall_rating']\n",
    "lm=LinearRegression(n_jobs=10)\n",
    "lm.fit(x,y)"
   ]
  },
  {
   "cell_type": "code",
   "execution_count": 55,
   "metadata": {},
   "outputs": [
    {
     "name": "stdout",
     "output_type": "stream",
     "text": [
      "1.5771856731704759\n",
      "['reactions', 'potential', 'short_passing', 'ball_control', 'long_passing', 'vision', 'shot_power', 'penalties', 'long_shots', 'positioning', 'volleys', 'curve', 'crossing', 'dribbling', 'free_kick_accuracy', 'finishing', 'stamina', 'aggression', 'strength', 'heading_accuracy', 'jumping', 'sprint_speed', 'interceptions', 'acceleration', 'agility', 'standing_tackle', 'balance', 'marking', 'sliding_tackle'] [ 3.06409101e-01  5.09354062e-01  8.83551089e-04  2.03427432e-02\n",
      "  4.74691311e-02 -4.84126774e-03  1.53657980e-02  1.45147362e-02\n",
      " -4.10816926e-03 -1.55762917e-02 -2.84931207e-04  3.77926148e-03\n",
      "  3.81465370e-02 -1.76271201e-02  5.44014161e-03  1.51810233e-03\n",
      " -1.21415411e-02  1.16928654e-02  9.00985402e-02 -1.76505582e-02\n",
      "  4.55451079e-02 -2.20305733e-02 -1.17483756e-03 -1.90168385e-02\n",
      " -2.71169871e-03 -7.36788093e-04 -4.54459922e-03  1.88086630e-02\n",
      " -4.57866504e-02]\n",
      "Prediction accuracy: 78.89251624235327%\n"
     ]
    }
   ],
   "source": [
    "# print intercept and coefficients and score\n",
    "print(lm.intercept_)\n",
    "print(features,lm.coef_)\n",
    "print('Prediction accuracy: {}%'.format(lm.score(x,y)*100))"
   ]
  },
  {
   "cell_type": "code",
   "execution_count": 62,
   "metadata": {},
   "outputs": [
    {
     "data": {
      "text/html": [
       "<div>\n",
       "<style scoped>\n",
       "    .dataframe tbody tr th:only-of-type {\n",
       "        vertical-align: middle;\n",
       "    }\n",
       "\n",
       "    .dataframe tbody tr th {\n",
       "        vertical-align: top;\n",
       "    }\n",
       "\n",
       "    .dataframe thead th {\n",
       "        text-align: right;\n",
       "    }\n",
       "</style>\n",
       "<table border=\"1\" class=\"dataframe\">\n",
       "  <thead>\n",
       "    <tr style=\"text-align: right;\">\n",
       "      <th></th>\n",
       "      <th>Actual_rating</th>\n",
       "      <th>Predicted_rating</th>\n",
       "    </tr>\n",
       "  </thead>\n",
       "  <tbody>\n",
       "    <tr>\n",
       "      <th>0</th>\n",
       "      <td>67.0</td>\n",
       "      <td>61.407952</td>\n",
       "    </tr>\n",
       "    <tr>\n",
       "      <th>1</th>\n",
       "      <td>67.0</td>\n",
       "      <td>61.407952</td>\n",
       "    </tr>\n",
       "    <tr>\n",
       "      <th>2</th>\n",
       "      <td>62.0</td>\n",
       "      <td>58.803919</td>\n",
       "    </tr>\n",
       "    <tr>\n",
       "      <th>3</th>\n",
       "      <td>61.0</td>\n",
       "      <td>57.973411</td>\n",
       "    </tr>\n",
       "    <tr>\n",
       "      <th>4</th>\n",
       "      <td>61.0</td>\n",
       "      <td>57.973411</td>\n",
       "    </tr>\n",
       "    <tr>\n",
       "      <th>5</th>\n",
       "      <td>74.0</td>\n",
       "      <td>70.076867</td>\n",
       "    </tr>\n",
       "    <tr>\n",
       "      <th>6</th>\n",
       "      <td>74.0</td>\n",
       "      <td>70.087363</td>\n",
       "    </tr>\n",
       "    <tr>\n",
       "      <th>7</th>\n",
       "      <td>73.0</td>\n",
       "      <td>69.547358</td>\n",
       "    </tr>\n",
       "    <tr>\n",
       "      <th>8</th>\n",
       "      <td>73.0</td>\n",
       "      <td>69.549948</td>\n",
       "    </tr>\n",
       "    <tr>\n",
       "      <th>9</th>\n",
       "      <td>73.0</td>\n",
       "      <td>69.549948</td>\n",
       "    </tr>\n",
       "  </tbody>\n",
       "</table>\n",
       "</div>"
      ],
      "text/plain": [
       "   Actual_rating  Predicted_rating\n",
       "0           67.0         61.407952\n",
       "1           67.0         61.407952\n",
       "2           62.0         58.803919\n",
       "3           61.0         57.973411\n",
       "4           61.0         57.973411\n",
       "5           74.0         70.076867\n",
       "6           74.0         70.087363\n",
       "7           73.0         69.547358\n",
       "8           73.0         69.549948\n",
       "9           73.0         69.549948"
      ]
     },
     "execution_count": 62,
     "metadata": {},
     "output_type": "execute_result"
    }
   ],
   "source": [
    "#Let's try to check actual and predicted ratings from model\n",
    "y_pred=lm.predict(x)\n",
    "pred=pd.DataFrame(y.values,columns=['Actual_rating'])\n",
    "pred['Predicted_rating']=y_pred\n",
    "pred.head(10)"
   ]
  },
  {
   "cell_type": "code",
   "execution_count": 64,
   "metadata": {},
   "outputs": [
    {
     "name": "stdout",
     "output_type": "stream",
     "text": [
      "Error Rate of the LM Regression Model :  3.2297044010403337\n"
     ]
    }
   ],
   "source": [
    "# Error Rate of the LM Regression Model\n",
    "print(\"Error Rate of the LM Regression Model : \",sqrt(mean_squared_error(y_pred,y)))"
   ]
  },
  {
   "cell_type": "code",
   "execution_count": 57,
   "metadata": {},
   "outputs": [
    {
     "data": {
      "image/png": "[encoded data removed]",
      "text/plain": [
       "<Figure size 432x288 with 1 Axes>"
      ]
     },
     "metadata": {
      "needs_background": "light"
     },
     "output_type": "display_data"
    }
   ],
   "source": [
    "#Lets plot actual vs predicted as scatter\n",
    "plt.scatter(pred.Actual_rating, pred.Predicted_rating)\n",
    "plt.xlabel('Actual Values')\n",
    "plt.ylabel('Predictions')\n",
    "plt.show()"
   ]
  },
  {
   "cell_type": "code",
   "execution_count": 81,
   "metadata": {},
   "outputs": [
    {
     "name": "stdout",
     "output_type": "stream",
     "text": [
      "X_train Shape :  (117822, 29)\n",
      "X_test Shape :  (63443, 29)\n",
      "Y_train Shape :  (117822,)\n",
      "Y_test.shape :  (63443,)\n"
     ]
    }
   ],
   "source": [
    "# Lets try by splitting the data using train-test method.\n",
    "#spliting 65% for train data and 35% for test data.\n",
    "X_train,X_test,Y_train,Y_test = train_test_split(x,y,test_size=0.35,random_state=0)\n",
    "print(\"X_train Shape : \",X_train.shape)\n",
    "print(\"X_test Shape : \",X_test.shape)\n",
    "print(\"Y_train Shape : \",Y_train.shape)\n",
    "print(\"Y_test.shape : \",Y_test.shape)"
   ]
  },
  {
   "cell_type": "code",
   "execution_count": 82,
   "metadata": {},
   "outputs": [
    {
     "name": "stdout",
     "output_type": "stream",
     "text": [
      "Prediction accuracy: 78.89101596361515%\n"
     ]
    }
   ],
   "source": [
    "#Train the data\n",
    "lm_split=LinearRegression(n_jobs=10)\n",
    "lm_split.fit(X_train,Y_train)\n",
    "print('Prediction accuracy: {}%'.format(lm.score(X_train, Y_train)*100))"
   ]
  },
  {
   "cell_type": "code",
   "execution_count": 83,
   "metadata": {},
   "outputs": [
    {
     "data": {
      "text/html": [
       "<div>\n",
       "<style scoped>\n",
       "    .dataframe tbody tr th:only-of-type {\n",
       "        vertical-align: middle;\n",
       "    }\n",
       "\n",
       "    .dataframe tbody tr th {\n",
       "        vertical-align: top;\n",
       "    }\n",
       "\n",
       "    .dataframe thead th {\n",
       "        text-align: right;\n",
       "    }\n",
       "</style>\n",
       "<table border=\"1\" class=\"dataframe\">\n",
       "  <thead>\n",
       "    <tr style=\"text-align: right;\">\n",
       "      <th></th>\n",
       "      <th>Actual_rating</th>\n",
       "      <th>Predicted_rating</th>\n",
       "    </tr>\n",
       "  </thead>\n",
       "  <tbody>\n",
       "    <tr>\n",
       "      <th>0</th>\n",
       "      <td>67.0</td>\n",
       "      <td>61.407952</td>\n",
       "    </tr>\n",
       "    <tr>\n",
       "      <th>1</th>\n",
       "      <td>67.0</td>\n",
       "      <td>61.407952</td>\n",
       "    </tr>\n",
       "    <tr>\n",
       "      <th>2</th>\n",
       "      <td>62.0</td>\n",
       "      <td>58.803919</td>\n",
       "    </tr>\n",
       "    <tr>\n",
       "      <th>3</th>\n",
       "      <td>61.0</td>\n",
       "      <td>57.973411</td>\n",
       "    </tr>\n",
       "    <tr>\n",
       "      <th>4</th>\n",
       "      <td>61.0</td>\n",
       "      <td>57.973411</td>\n",
       "    </tr>\n",
       "    <tr>\n",
       "      <th>5</th>\n",
       "      <td>74.0</td>\n",
       "      <td>70.076867</td>\n",
       "    </tr>\n",
       "    <tr>\n",
       "      <th>6</th>\n",
       "      <td>74.0</td>\n",
       "      <td>70.087363</td>\n",
       "    </tr>\n",
       "    <tr>\n",
       "      <th>7</th>\n",
       "      <td>73.0</td>\n",
       "      <td>69.547358</td>\n",
       "    </tr>\n",
       "    <tr>\n",
       "      <th>8</th>\n",
       "      <td>73.0</td>\n",
       "      <td>69.549948</td>\n",
       "    </tr>\n",
       "    <tr>\n",
       "      <th>9</th>\n",
       "      <td>73.0</td>\n",
       "      <td>69.549948</td>\n",
       "    </tr>\n",
       "  </tbody>\n",
       "</table>\n",
       "</div>"
      ],
      "text/plain": [
       "   Actual_rating  Predicted_rating\n",
       "0           67.0         61.407952\n",
       "1           67.0         61.407952\n",
       "2           62.0         58.803919\n",
       "3           61.0         57.973411\n",
       "4           61.0         57.973411\n",
       "5           74.0         70.076867\n",
       "6           74.0         70.087363\n",
       "7           73.0         69.547358\n",
       "8           73.0         69.549948\n",
       "9           73.0         69.549948"
      ]
     },
     "execution_count": 83,
     "metadata": {},
     "output_type": "execute_result"
    }
   ],
   "source": [
    "# predict on test data\n",
    "Y_pred_split = lm_split.predict(X_test)\n",
    "test_pred=pd.DataFrame(Y_test.values,columns=['Actual_rating'])\n",
    "test_pred['Predicted_rating']=Y_pred_split\n",
    "pred.head(10)"
   ]
  },
  {
   "cell_type": "code",
   "execution_count": 88,
   "metadata": {},
   "outputs": [
    {
     "name": "stdout",
     "output_type": "stream",
     "text": [
      "Error Rate of the LM split Regression Model :  3.222539722924974\n"
     ]
    }
   ],
   "source": [
    "# Error Rate of the LM split Regression Model\n",
    "print(\"Error Rate of the LM split Regression Model : \",sqrt(mean_squared_error(Y_pred_split,Y_test)))"
   ]
  },
  {
   "cell_type": "code",
   "execution_count": 91,
   "metadata": {},
   "outputs": [
    {
     "name": "stdout",
     "output_type": "stream",
     "text": [
      "potential\n",
      "crossing\n",
      "heading_accuracy\n",
      "short_passing\n",
      "ball_control\n",
      "reactions\n",
      "strength\n",
      "aggression\n",
      "marking\n",
      "sliding_tackle\n",
      "gk_diving\n",
      "gk_handling\n",
      "gk_kicking\n",
      "gk_positioning\n",
      "gk_reflexes\n"
     ]
    }
   ],
   "source": [
    "#Lets try to use RFE to use feature selection\n",
    "from sklearn.feature_selection import RFE\n",
    "df_new=df.copy()\n",
    "df_new=df_new.drop('overall_rating',axis=1)\n",
    "lmf = LinearRegression(n_jobs=10)\n",
    "rfe = RFE(lmf, n_features_to_select = 15)\n",
    "\n",
    "x=df_new\n",
    "y=df['overall_rating']\n",
    "rfe_fit = rfe.fit(x, y)\n",
    "features_new = []\n",
    "for feat in df_new.columns[rfe_fit.support_]:\n",
    "    print(feat)\n",
    "    features_new.append(feat)"
   ]
  },
  {
   "cell_type": "code",
   "execution_count": 92,
   "metadata": {},
   "outputs": [
    {
     "name": "stdout",
     "output_type": "stream",
     "text": [
      "Xn_train Shape :  (126885, 15)\n",
      "Xn_test Shape :  (54380, 15)\n",
      "Yn_train Shape :  (126885,)\n",
      "Yn_test.shape :  (54380,)\n"
     ]
    }
   ],
   "source": [
    "#try linear regression using new features\n",
    "x_new=df[features_new]\n",
    "y_new=df['overall_rating']\n",
    "Xn_train,Xn_test,Yn_train,Yn_test = train_test_split(x_new,y_new,test_size=0.3,random_state=0)\n",
    "print(\"Xn_train Shape : \",Xn_train.shape)\n",
    "print(\"Xn_test Shape : \",Xn_test.shape)\n",
    "print(\"Yn_train Shape : \",Yn_train.shape)\n",
    "print(\"Yn_test.shape : \",Yn_test.shape)"
   ]
  },
  {
   "cell_type": "code",
   "execution_count": 93,
   "metadata": {},
   "outputs": [
    {
     "name": "stdout",
     "output_type": "stream",
     "text": [
      "Prediction accuracy: 83.81319790711287%\n"
     ]
    }
   ],
   "source": [
    "#Train the data\n",
    "lmf.fit(Xn_train,Yn_train)\n",
    "print('Prediction accuracy: {}%'.format(lmf.score(Xn_train, Yn_train)*100))"
   ]
  },
  {
   "cell_type": "code",
   "execution_count": 102,
   "metadata": {},
   "outputs": [],
   "source": [
    "#Predict on test dataset and then check the error score\n",
    "yn_pred = lmf.predict(Xn_test)"
   ]
  },
  {
   "cell_type": "code",
   "execution_count": 104,
   "metadata": {},
   "outputs": [
    {
     "name": "stdout",
     "output_type": "stream",
     "text": [
      "Error Rate of the LM Regression Model for new features :  2.8285286324300736\n"
     ]
    }
   ],
   "source": [
    "print(\"Error Rate of the LM Regression Model for new features : \",sqrt(mean_squared_error(yn_pred,Yn_test)))"
   ]
  },
  {
   "cell_type": "code",
   "execution_count": 105,
   "metadata": {},
   "outputs": [
    {
     "data": {
      "text/html": [
       "<div>\n",
       "<style scoped>\n",
       "    .dataframe tbody tr th:only-of-type {\n",
       "        vertical-align: middle;\n",
       "    }\n",
       "\n",
       "    .dataframe tbody tr th {\n",
       "        vertical-align: top;\n",
       "    }\n",
       "\n",
       "    .dataframe thead th {\n",
       "        text-align: right;\n",
       "    }\n",
       "</style>\n",
       "<table border=\"1\" class=\"dataframe\">\n",
       "  <thead>\n",
       "    <tr style=\"text-align: right;\">\n",
       "      <th></th>\n",
       "      <th>Actual_rating</th>\n",
       "      <th>Predicted_rating</th>\n",
       "    </tr>\n",
       "  </thead>\n",
       "  <tbody>\n",
       "    <tr>\n",
       "      <th>0</th>\n",
       "      <td>67.0</td>\n",
       "      <td>70.620143</td>\n",
       "    </tr>\n",
       "    <tr>\n",
       "      <th>1</th>\n",
       "      <td>56.0</td>\n",
       "      <td>59.700633</td>\n",
       "    </tr>\n",
       "    <tr>\n",
       "      <th>2</th>\n",
       "      <td>69.0</td>\n",
       "      <td>68.533972</td>\n",
       "    </tr>\n",
       "    <tr>\n",
       "      <th>3</th>\n",
       "      <td>79.0</td>\n",
       "      <td>80.130245</td>\n",
       "    </tr>\n",
       "    <tr>\n",
       "      <th>4</th>\n",
       "      <td>69.0</td>\n",
       "      <td>63.812105</td>\n",
       "    </tr>\n",
       "    <tr>\n",
       "      <th>5</th>\n",
       "      <td>73.0</td>\n",
       "      <td>71.287132</td>\n",
       "    </tr>\n",
       "    <tr>\n",
       "      <th>6</th>\n",
       "      <td>77.0</td>\n",
       "      <td>72.989617</td>\n",
       "    </tr>\n",
       "    <tr>\n",
       "      <th>7</th>\n",
       "      <td>64.0</td>\n",
       "      <td>64.838364</td>\n",
       "    </tr>\n",
       "    <tr>\n",
       "      <th>8</th>\n",
       "      <td>81.0</td>\n",
       "      <td>86.056354</td>\n",
       "    </tr>\n",
       "    <tr>\n",
       "      <th>9</th>\n",
       "      <td>63.0</td>\n",
       "      <td>63.351631</td>\n",
       "    </tr>\n",
       "  </tbody>\n",
       "</table>\n",
       "</div>"
      ],
      "text/plain": [
       "   Actual_rating  Predicted_rating\n",
       "0           67.0         70.620143\n",
       "1           56.0         59.700633\n",
       "2           69.0         68.533972\n",
       "3           79.0         80.130245\n",
       "4           69.0         63.812105\n",
       "5           73.0         71.287132\n",
       "6           77.0         72.989617\n",
       "7           64.0         64.838364\n",
       "8           81.0         86.056354\n",
       "9           63.0         63.351631"
      ]
     },
     "execution_count": 105,
     "metadata": {},
     "output_type": "execute_result"
    }
   ],
   "source": [
    "new_pred=pd.DataFrame(Yn_test.values,columns=['Actual_rating'])\n",
    "new_pred['Predicted_rating']=yn_pred\n",
    "new_pred.head(10)"
   ]
  },
  {
   "cell_type": "code",
   "execution_count": 94,
   "metadata": {},
   "outputs": [
    {
     "name": "stdout",
     "output_type": "stream",
     "text": [
      "Variance Score: 0.9930044684324683\n"
     ]
    }
   ],
   "source": [
    "# Let try using decision tree regression on new split data\n",
    "regressor  = DecisionTreeRegressor(max_depth=20)\n",
    "regressor.fit(Xn_train,Yn_train)\n",
    "print('Variance Score: {}'.format(regressor.score(Xn_train,Yn_train)))"
   ]
  },
  {
   "cell_type": "code",
   "execution_count": 96,
   "metadata": {},
   "outputs": [
    {
     "data": {
      "text/html": [
       "<div>\n",
       "<style scoped>\n",
       "    .dataframe tbody tr th:only-of-type {\n",
       "        vertical-align: middle;\n",
       "    }\n",
       "\n",
       "    .dataframe tbody tr th {\n",
       "        vertical-align: top;\n",
       "    }\n",
       "\n",
       "    .dataframe thead th {\n",
       "        text-align: right;\n",
       "    }\n",
       "</style>\n",
       "<table border=\"1\" class=\"dataframe\">\n",
       "  <thead>\n",
       "    <tr style=\"text-align: right;\">\n",
       "      <th></th>\n",
       "      <th>Actual_rating</th>\n",
       "      <th>Predicted_rating</th>\n",
       "    </tr>\n",
       "  </thead>\n",
       "  <tbody>\n",
       "    <tr>\n",
       "      <th>0</th>\n",
       "      <td>67.0</td>\n",
       "      <td>72.625000</td>\n",
       "    </tr>\n",
       "    <tr>\n",
       "      <th>1</th>\n",
       "      <td>56.0</td>\n",
       "      <td>55.300000</td>\n",
       "    </tr>\n",
       "    <tr>\n",
       "      <th>2</th>\n",
       "      <td>69.0</td>\n",
       "      <td>68.000000</td>\n",
       "    </tr>\n",
       "    <tr>\n",
       "      <th>3</th>\n",
       "      <td>79.0</td>\n",
       "      <td>79.000000</td>\n",
       "    </tr>\n",
       "    <tr>\n",
       "      <th>4</th>\n",
       "      <td>69.0</td>\n",
       "      <td>69.000000</td>\n",
       "    </tr>\n",
       "    <tr>\n",
       "      <th>5</th>\n",
       "      <td>73.0</td>\n",
       "      <td>72.589286</td>\n",
       "    </tr>\n",
       "    <tr>\n",
       "      <th>6</th>\n",
       "      <td>77.0</td>\n",
       "      <td>76.000000</td>\n",
       "    </tr>\n",
       "    <tr>\n",
       "      <th>7</th>\n",
       "      <td>64.0</td>\n",
       "      <td>64.000000</td>\n",
       "    </tr>\n",
       "    <tr>\n",
       "      <th>8</th>\n",
       "      <td>81.0</td>\n",
       "      <td>80.000000</td>\n",
       "    </tr>\n",
       "    <tr>\n",
       "      <th>9</th>\n",
       "      <td>63.0</td>\n",
       "      <td>62.000000</td>\n",
       "    </tr>\n",
       "  </tbody>\n",
       "</table>\n",
       "</div>"
      ],
      "text/plain": [
       "   Actual_rating  Predicted_rating\n",
       "0           67.0         72.625000\n",
       "1           56.0         55.300000\n",
       "2           69.0         68.000000\n",
       "3           79.0         79.000000\n",
       "4           69.0         69.000000\n",
       "5           73.0         72.589286\n",
       "6           77.0         76.000000\n",
       "7           64.0         64.000000\n",
       "8           81.0         80.000000\n",
       "9           63.0         62.000000"
      ]
     },
     "execution_count": 96,
     "metadata": {},
     "output_type": "execute_result"
    }
   ],
   "source": [
    "#Let's try to check actual and predicted ratings from decision tree model\n",
    "y_dt_pred=regressor.predict(Xn_test)\n",
    "dt_pred=pd.DataFrame(Yn_test.values,columns=['Actual_rating'])\n",
    "dt_pred['Predicted_rating']=y_dt_pred\n",
    "dt_pred.head(10)"
   ]
  },
  {
   "cell_type": "code",
   "execution_count": 97,
   "metadata": {},
   "outputs": [
    {
     "name": "stdout",
     "output_type": "stream",
     "text": [
      "Error Rate of the DT Regression Model :  1.6080409535159006\n"
     ]
    }
   ],
   "source": [
    "# Error Rate of the DT Regression Model\n",
    "print(\"Error Rate of the DT Regression Model : \",sqrt(mean_squared_error(y_dt_pred,Yn_test)))"
   ]
  },
  {
   "cell_type": "code",
   "execution_count": 101,
   "metadata": {},
   "outputs": [
    {
     "data": {
      "image/png": "[encoded data removed]",
      "text/plain": [
       "<Figure size 432x288 with 1 Axes>"
      ]
     },
     "metadata": {
      "needs_background": "light"
     },
     "output_type": "display_data"
    }
   ],
   "source": [
    "#Lets plot actual vs predicted as scatter\n",
    "plt.scatter(dt_pred.Actual_rating, dt_pred.Predicted_rating)\n",
    "plt.xlabel('Actual Values DTree')\n",
    "plt.ylabel('Predictions DTree')\n",
    "plt.show()"
   ]
  }
 ],
 "metadata": {
  "kernelspec": {
   "display_name": "Python 3",
   "language": "python",
   "name": "python3"
  },
  "language_info": {
   "codemirror_mode": {
    "name": "ipython",
    "version": 3
   },
   "file_extension": ".py",
   "mimetype": "text/x-python",
   "name": "python",
   "nbconvert_exporter": "python",
   "pygments_lexer": "ipython3",
   "version": "3.6.6"
  }
 },
 "nbformat": 4,
 "nbformat_minor": 2
}
